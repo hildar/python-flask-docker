{
 "cells": [
  {
   "cell_type": "markdown",
   "id": "04bc83b8",
   "metadata": {},
   "source": [
    "# Project course ML in business:  \"Puthon-flask-docker\"\n",
    "## Client\n",
    "\n",
    "Content:\n",
    "\n",
    "    1. Example request;\n",
    "    2. Check test data;\n",
    "    3. Check multi-requests\n",
    "    4. Evaluate model"
   ]
  },
  {
   "cell_type": "markdown",
   "id": "e61436ca",
   "metadata": {},
   "source": [
    "### 1. Example request"
   ]
  },
  {
   "cell_type": "code",
   "execution_count": 1,
   "id": "2087371d",
   "metadata": {},
   "outputs": [],
   "source": [
    "import pandas as pd\n",
    "import numpy as np\n",
    "import matplotlib.pyplot as plt\n",
    "\n",
    "# rest api\n",
    "import requests\n",
    "import urllib.request\n",
    "import json \n",
    "\n",
    "# metrics\n",
    "from sklearn.metrics import roc_auc_score, precision_recall_curve"
   ]
  },
  {
   "cell_type": "code",
   "execution_count": 2,
   "id": "29e26e77",
   "metadata": {},
   "outputs": [],
   "source": [
    "# example text\n",
    "data = ( \n",
    "    \"Hello my friend. I love you!\"\n",
    ")"
   ]
  },
  {
   "cell_type": "code",
   "execution_count": 3,
   "id": "24265d93",
   "metadata": {},
   "outputs": [],
   "source": [
    "# request function\n",
    "def send_json(x):\n",
    "    comment_text = x[0] if isinstance(x, pd.Series) else x\n",
    "    \n",
    "    body = {\n",
    "        'comment_text': comment_text if comment_text is not np.nan else '',\n",
    "        }\n",
    "\n",
    "    myurl = 'http://localhost:8181' + '/predict'\n",
    "    headers = {'content-type': 'application/json; charset=utf-8'}\n",
    "    response = requests.post(myurl, json=body, headers=headers)\n",
    "    return response.json()['predictions']"
   ]
  },
  {
   "cell_type": "code",
   "execution_count": 4,
   "id": "408a0718",
   "metadata": {
    "scrolled": true
   },
   "outputs": [
    {
     "name": "stdout",
     "output_type": "stream",
     "text": [
      "Predictions:\n",
      " [0.0040578371694852105, 0.0004706438508573116, 0.0054720394251326476, 0.002235866222883407, 0.0030444604355813333, 0.011192087874915966]\n"
     ]
    }
   ],
   "source": [
    "# request with one string\n",
    "response = send_json(data)\n",
    "print('Predictions:\\n', response)"
   ]
  },
  {
   "cell_type": "markdown",
   "id": "f1dc33a0",
   "metadata": {},
   "source": [
    "Let's look at the bar plot:"
   ]
  },
  {
   "cell_type": "code",
   "execution_count": 5,
   "id": "8940cc3d",
   "metadata": {},
   "outputs": [],
   "source": [
    "X_test = pd.read_csv('csv/X_test.csv')\n",
    "y_test = pd.read_csv('csv/y_test.csv')"
   ]
  },
  {
   "cell_type": "code",
   "execution_count": 6,
   "id": "e88e610f",
   "metadata": {},
   "outputs": [],
   "source": [
    "def view_probs(y_true, y_preds): \n",
    "    color = ['red','blue','green','yellow','black','orange']\n",
    "    plt.ylim(0, 1)\n",
    "    plt.bar(y_true.columns, np.array(y_preds), color = color )\n",
    "    plt.title('Probabilities')"
   ]
  },
  {
   "cell_type": "code",
   "execution_count": 7,
   "id": "4f6aa2bc",
   "metadata": {},
   "outputs": [
    {
     "data": {
      "image/png": "[encoded data removed]",
      "text/plain": [
       "<Figure size 432x288 with 1 Axes>"
      ]
     },
     "metadata": {
      "needs_background": "light"
     },
     "output_type": "display_data"
    }
   ],
   "source": [
    "view_probs(y_test, response)"
   ]
  },
  {
   "cell_type": "markdown",
   "id": "752befaf",
   "metadata": {},
   "source": [
    "### 2. Check test data"
   ]
  },
  {
   "cell_type": "code",
   "execution_count": 8,
   "id": "d1f5ea4c",
   "metadata": {},
   "outputs": [],
   "source": [
    "a = pd.concat([X_test, y_test], axis=1)"
   ]
  },
  {
   "cell_type": "code",
   "execution_count": 9,
   "id": "040f2279",
   "metadata": {},
   "outputs": [
    {
     "data": {
      "text/html": [
       "<div>\n",
       "<style scoped>\n",
       "    .dataframe tbody tr th:only-of-type {\n",
       "        vertical-align: middle;\n",
       "    }\n",
       "\n",
       "    .dataframe tbody tr th {\n",
       "        vertical-align: top;\n",
       "    }\n",
       "\n",
       "    .dataframe thead th {\n",
       "        text-align: right;\n",
       "    }\n",
       "</style>\n",
       "<table border=\"1\" class=\"dataframe\">\n",
       "  <thead>\n",
       "    <tr style=\"text-align: right;\">\n",
       "      <th></th>\n",
       "      <th>comment_text</th>\n",
       "      <th>toxic</th>\n",
       "      <th>severe_toxic</th>\n",
       "      <th>obscene</th>\n",
       "      <th>threat</th>\n",
       "      <th>insult</th>\n",
       "      <th>identity_hate</th>\n",
       "    </tr>\n",
       "  </thead>\n",
       "  <tbody>\n",
       "    <tr>\n",
       "      <th>39867</th>\n",
       "      <td>Matt, when mattsanchez.info goes live on Monda...</td>\n",
       "      <td>1</td>\n",
       "      <td>0</td>\n",
       "      <td>0</td>\n",
       "      <td>0</td>\n",
       "      <td>0</td>\n",
       "      <td>0</td>\n",
       "    </tr>\n",
       "    <tr>\n",
       "      <th>39870</th>\n",
       "      <td>they are claiming that Gorbachev apologized th...</td>\n",
       "      <td>1</td>\n",
       "      <td>0</td>\n",
       "      <td>1</td>\n",
       "      <td>0</td>\n",
       "      <td>1</td>\n",
       "      <td>0</td>\n",
       "    </tr>\n",
       "    <tr>\n",
       "      <th>39877</th>\n",
       "      <td>Hello, you Indian cannibal and child molester ...</td>\n",
       "      <td>1</td>\n",
       "      <td>0</td>\n",
       "      <td>0</td>\n",
       "      <td>0</td>\n",
       "      <td>1</td>\n",
       "      <td>1</td>\n",
       "    </tr>\n",
       "    <tr>\n",
       "      <th>39878</th>\n",
       "      <td>GAYWAD \\n\\nyou are a huge homo</td>\n",
       "      <td>1</td>\n",
       "      <td>0</td>\n",
       "      <td>0</td>\n",
       "      <td>0</td>\n",
       "      <td>1</td>\n",
       "      <td>1</td>\n",
       "    </tr>\n",
       "    <tr>\n",
       "      <th>39889</th>\n",
       "      <td>Fuck you!!!!!!!!!!!! \\n\\nand your foot</td>\n",
       "      <td>1</td>\n",
       "      <td>1</td>\n",
       "      <td>1</td>\n",
       "      <td>0</td>\n",
       "      <td>1</td>\n",
       "      <td>0</td>\n",
       "    </tr>\n",
       "  </tbody>\n",
       "</table>\n",
       "</div>"
      ],
      "text/plain": [
       "                                            comment_text  toxic  severe_toxic  \\\n",
       "39867  Matt, when mattsanchez.info goes live on Monda...      1             0   \n",
       "39870  they are claiming that Gorbachev apologized th...      1             0   \n",
       "39877  Hello, you Indian cannibal and child molester ...      1             0   \n",
       "39878                     GAYWAD \\n\\nyou are a huge homo      1             0   \n",
       "39889             Fuck you!!!!!!!!!!!! \\n\\nand your foot      1             1   \n",
       "\n",
       "       obscene  threat  insult  identity_hate  \n",
       "39867        0       0       0              0  \n",
       "39870        1       0       1              0  \n",
       "39877        0       0       1              1  \n",
       "39878        0       0       1              1  \n",
       "39889        1       0       1              0  "
      ]
     },
     "execution_count": 9,
     "metadata": {},
     "output_type": "execute_result"
    }
   ],
   "source": [
    "a[a['toxic'] == 1].tail()"
   ]
  },
  {
   "cell_type": "code",
   "execution_count": 10,
   "id": "979f8632",
   "metadata": {
    "scrolled": true
   },
   "outputs": [
    {
     "data": {
      "text/plain": [
       "\"they are claiming that Gorbachev apologized that accepted that Soviet crackdown on barbaric Baku was his the only and biggest mistake in his political life? Can you believe?? WHere are they taking this kind of information from? I guess they put their fingers in their rectum and get some information from there. My advice- just ignore that idiot named Grandmaster. Let him bullshit online if Wikipedia allows that. Paranoic people are all over. Azeri claims will never erase witnesses' memories. We are still alive\""
      ]
     },
     "execution_count": 10,
     "metadata": {},
     "output_type": "execute_result"
    }
   ],
   "source": [
    "X_test.iloc[39870]['comment_text']"
   ]
  },
  {
   "cell_type": "code",
   "execution_count": 11,
   "id": "dfe499d5",
   "metadata": {
    "scrolled": true
   },
   "outputs": [
    {
     "name": "stdout",
     "output_type": "stream",
     "text": [
      "Predictions:\n",
      " [0.715985260861589, 0.001755533023083761, 0.12878847017252165, 0.001470190080993026, 0.08990023314200474, 0.0006556570467937011]\n"
     ]
    }
   ],
   "source": [
    "response = send_json(X_test.iloc[39870])\n",
    "print('Predictions:\\n', response)"
   ]
  },
  {
   "cell_type": "code",
   "execution_count": 12,
   "id": "a1dee2d4",
   "metadata": {},
   "outputs": [
    {
     "data": {
      "image/png": "[encoded data removed]",
      "text/plain": [
       "<Figure size 432x288 with 1 Axes>"
      ]
     },
     "metadata": {
      "needs_background": "light"
     },
     "output_type": "display_data"
    }
   ],
   "source": [
    "view_probs(y_test, response)"
   ]
  },
  {
   "cell_type": "markdown",
   "id": "0c2a51fb",
   "metadata": {},
   "source": [
    "It's work. Good visibility."
   ]
  },
  {
   "cell_type": "markdown",
   "id": "f53ed1e5",
   "metadata": {},
   "source": [
    "### 3. Check multi-requests"
   ]
  },
  {
   "cell_type": "code",
   "execution_count": 13,
   "id": "9cade000",
   "metadata": {},
   "outputs": [],
   "source": [
    "N = 1000\n",
    "start = 980"
   ]
  },
  {
   "cell_type": "code",
   "execution_count": 14,
   "id": "28155508",
   "metadata": {},
   "outputs": [
    {
     "name": "stdout",
     "output_type": "stream",
     "text": [
      "CPU times: user 2.15 s, sys: 513 ms, total: 2.67 s\n",
      "Wall time: 21.1 s\n"
     ]
    }
   ],
   "source": [
    "%%time\n",
    "predictions = []\n",
    "for i in range(start, start + N):\n",
    "    predictions.append(send_json(X_test.iloc[i]))"
   ]
  },
  {
   "cell_type": "code",
   "execution_count": 15,
   "id": "2b9d758a",
   "metadata": {
    "scrolled": true
   },
   "outputs": [
    {
     "data": {
      "text/plain": [
       "[0.027287445379156915,\n",
       " 0.002921102418095985,\n",
       " 0.016987881580108343,\n",
       " 0.0004357170087953383,\n",
       " 0.014855194434695884,\n",
       " 0.0009889857478431218]"
      ]
     },
     "execution_count": 15,
     "metadata": {},
     "output_type": "execute_result"
    }
   ],
   "source": [
    "predictions[0]"
   ]
  },
  {
   "cell_type": "code",
   "execution_count": 16,
   "id": "fa336f50",
   "metadata": {},
   "outputs": [
    {
     "data": {
      "image/png": "[encoded data removed]",
      "text/plain": [
       "<Figure size 1152x720 with 40 Axes>"
      ]
     },
     "metadata": {
      "needs_background": "light"
     },
     "output_type": "display_data"
    }
   ],
   "source": [
    "color = ['red','blue','green','yellow','black','orange']\n",
    "ix = 0\n",
    "rows = 5\n",
    "cols = 8\n",
    "fig, axs = plt.subplots(rows, cols, figsize=(16,10))\n",
    "fig.suptitle('Probabilities')\n",
    "for i in range(rows):\n",
    "    for j in range(cols):\n",
    "        axs[i, j].set_ylim(0, 1)\n",
    "        axs[i, j].bar(y_test.columns, np.array(predictions[ix]), color = color )\n",
    "        axs[i, j].axes.get_xaxis().set_visible(False)\n",
    "        ix += 1\n",
    "\n",
    "for ax in axs.flat:\n",
    "    ax.label_outer()"
   ]
  },
  {
   "cell_type": "markdown",
   "id": "f9e0f97f",
   "metadata": {},
   "source": [
    "### 4. Evaluate model"
   ]
  },
  {
   "cell_type": "code",
   "execution_count": 17,
   "id": "64481602",
   "metadata": {},
   "outputs": [],
   "source": [
    "def evaluate_model(y_true, y_preds):\n",
    "    # Precision Recall F-Score\n",
    "    metrics_list = []\n",
    "    ix_thresholds = []\n",
    "    for i in range(y_true.shape[1]):\n",
    "        t = y_true.iloc[:, i]\n",
    "        p = y_preds.iloc[:, i]\n",
    "        precision, recall, thresholds = precision_recall_curve(t, p)\n",
    "        fscore = (2 * precision * recall) / (precision + recall)\n",
    "        ix = np.argmax(fscore)\n",
    "        metrics_list.append([thresholds, fscore, precision, recall])\n",
    "        ix_thresholds.append(ix)\n",
    "        print(f'Best Threshold for {y_test.columns[i]} = {thresholds[ix]}, \\\n",
    "        F-Score = {fscore[ix]:.3f}, Precision = {precision[ix]:.3f}, Recall = {recall[ix]:.3f}')\n",
    "    \n",
    "    # Mean F-Score\n",
    "    fmean = []\n",
    "    for i, m in zip(ix_thresholds, metrics_list):\n",
    "        fmean.append(m[2][i])\n",
    "    fscore_mean = np.mean(fmean)\n",
    "    print(f'Mean F-Score = {fscore_mean}')\n",
    "    \n",
    "    # ROC AUC\n",
    "    roc_auc = roc_auc_score(y_true, y_preds)\n",
    "    print(f'ROC AUC = {roc_auc}')\n",
    "    \n",
    "    return fscore_mean, roc_auc"
   ]
  },
  {
   "cell_type": "code",
   "execution_count": 18,
   "id": "d45b9de1",
   "metadata": {},
   "outputs": [
    {
     "name": "stdout",
     "output_type": "stream",
     "text": [
      "Best Threshold for toxic = 0.396107321661904,         F-Score = 0.851, Precision = 0.895, Recall = 0.811\n",
      "Best Threshold for severe_toxic = 0.15639632878024282,         F-Score = 0.593, Precision = 0.500, Recall = 0.727\n",
      "Best Threshold for obscene = 0.504593518274631,         F-Score = 0.845, Precision = 0.911, Recall = 0.788\n",
      "Best Threshold for threat = 0.18084220251733676,         F-Score = 0.800, Precision = 1.000, Recall = 0.667\n",
      "Best Threshold for insult = 0.2087364187905626,         F-Score = 0.713, Precision = 0.679, Recall = 0.750\n",
      "Best Threshold for identity_hate = 0.08263621376785017,         F-Score = 0.563, Precision = 0.450, Recall = 0.750\n",
      "Mean F-Score = 0.7392842052232136\n",
      "ROC AUC = 0.9862657737264694\n"
     ]
    },
    {
     "data": {
      "text/plain": [
       "(0.7392842052232136, 0.9862657737264694)"
      ]
     },
     "execution_count": 18,
     "metadata": {},
     "output_type": "execute_result"
    }
   ],
   "source": [
    "evaluate_model(y_test[start:(start + N)], pd.DataFrame(predictions))"
   ]
  },
  {
   "cell_type": "markdown",
   "id": "389f0707",
   "metadata": {},
   "source": [
    "Server and model are working."
   ]
  },
  {
   "cell_type": "code",
   "execution_count": null,
   "id": "8e4d1e27",
   "metadata": {},
   "outputs": [],
   "source": []
  }
 ],
 "metadata": {
  "kernelspec": {
   "display_name": "Python 3 (ipykernel)",
   "language": "python",
   "name": "python3"
  },
  "language_info": {
   "codemirror_mode": {
    "name": "ipython",
    "version": 3
   },
   "file_extension": ".py",
   "mimetype": "text/x-python",
   "name": "python",
   "nbconvert_exporter": "python",
   "pygments_lexer": "ipython3",
   "version": "3.9.7"
  }
 },
 "nbformat": 4,
 "nbformat_minor": 5
}
