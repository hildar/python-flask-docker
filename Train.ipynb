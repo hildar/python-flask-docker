{
 "cells": [
  {
   "cell_type": "markdown",
   "id": "eebb43ca",
   "metadata": {},
   "source": [
    "# Project course ML in business:  \"Puthon-flask-docker\"\n",
    "## Train\n",
    "\n",
    "Content:\n",
    "\n",
    "    1. first a look at the data;\n",
    "    2. split train data;\n",
    "    3. save train and test data;\n",
    "    4. prepare feature transforms;\n",
    "    5. build pipeline;\n",
    "    6. choose and save model;\n"
   ]
  },
  {
   "cell_type": "markdown",
   "id": "490f2364",
   "metadata": {},
   "source": [
    "### 1. First a look at the data"
   ]
  },
  {
   "cell_type": "code",
   "execution_count": 1,
   "id": "9c6a2d2c",
   "metadata": {},
   "outputs": [],
   "source": [
    "import pandas as pd\n",
    "import numpy as np\n",
    "import dill\n",
    "\n",
    "# warnings\n",
    "import warnings\n",
    "warnings.filterwarnings(\"ignore\", category=FutureWarning)"
   ]
  },
  {
   "cell_type": "code",
   "execution_count": 2,
   "id": "b8a16662",
   "metadata": {},
   "outputs": [],
   "source": [
    "# preparing data\n",
    "from sklearn.model_selection import train_test_split\n",
    "import matplotlib.pyplot as plt\n",
    "import string\n",
    "\n",
    "# working with text\n",
    "from sklearn.feature_extraction.text import TfidfVectorizer\n",
    "\n",
    "# normalizing data\n",
    "from sklearn.preprocessing import StandardScaler\n",
    "\n",
    "# imputer\n",
    "from sklearn.impute import SimpleImputer\n",
    "\n",
    "# pipeline\n",
    "from sklearn.base import BaseEstimator, TransformerMixin\n",
    "from sklearn.pipeline import Pipeline, FeatureUnion"
   ]
  },
  {
   "cell_type": "code",
   "execution_count": 3,
   "id": "88a28278",
   "metadata": {},
   "outputs": [],
   "source": [
    "# models\n",
    "from sklearn.multiclass import OneVsRestClassifier\n",
    "from sklearn.linear_model import LogisticRegression\n",
    "from sklearn.ensemble import RandomForestClassifier\n",
    "# from sklearn.ensemble import GradientBoostingClassifier\n",
    "import xgboost as xgb\n",
    "\n",
    "# metrics\n",
    "from sklearn.metrics import roc_auc_score, precision_recall_curve"
   ]
  },
  {
   "cell_type": "code",
   "execution_count": 4,
   "id": "aa04fc16",
   "metadata": {
    "scrolled": false
   },
   "outputs": [
    {
     "data": {
      "text/html": [
       "<div>\n",
       "<style scoped>\n",
       "    .dataframe tbody tr th:only-of-type {\n",
       "        vertical-align: middle;\n",
       "    }\n",
       "\n",
       "    .dataframe tbody tr th {\n",
       "        vertical-align: top;\n",
       "    }\n",
       "\n",
       "    .dataframe thead th {\n",
       "        text-align: right;\n",
       "    }\n",
       "</style>\n",
       "<table border=\"1\" class=\"dataframe\">\n",
       "  <thead>\n",
       "    <tr style=\"text-align: right;\">\n",
       "      <th></th>\n",
       "      <th>id</th>\n",
       "      <th>comment_text</th>\n",
       "      <th>toxic</th>\n",
       "      <th>severe_toxic</th>\n",
       "      <th>obscene</th>\n",
       "      <th>threat</th>\n",
       "      <th>insult</th>\n",
       "      <th>identity_hate</th>\n",
       "    </tr>\n",
       "  </thead>\n",
       "  <tbody>\n",
       "    <tr>\n",
       "      <th>0</th>\n",
       "      <td>0000997932d777bf</td>\n",
       "      <td>Explanation\\nWhy the edits made under my usern...</td>\n",
       "      <td>0</td>\n",
       "      <td>0</td>\n",
       "      <td>0</td>\n",
       "      <td>0</td>\n",
       "      <td>0</td>\n",
       "      <td>0</td>\n",
       "    </tr>\n",
       "    <tr>\n",
       "      <th>1</th>\n",
       "      <td>000103f0d9cfb60f</td>\n",
       "      <td>D'aww! He matches this background colour I'm s...</td>\n",
       "      <td>0</td>\n",
       "      <td>0</td>\n",
       "      <td>0</td>\n",
       "      <td>0</td>\n",
       "      <td>0</td>\n",
       "      <td>0</td>\n",
       "    </tr>\n",
       "    <tr>\n",
       "      <th>2</th>\n",
       "      <td>000113f07ec002fd</td>\n",
       "      <td>Hey man, I'm really not trying to edit war. It...</td>\n",
       "      <td>0</td>\n",
       "      <td>0</td>\n",
       "      <td>0</td>\n",
       "      <td>0</td>\n",
       "      <td>0</td>\n",
       "      <td>0</td>\n",
       "    </tr>\n",
       "    <tr>\n",
       "      <th>3</th>\n",
       "      <td>0001b41b1c6bb37e</td>\n",
       "      <td>\"\\nMore\\nI can't make any real suggestions on ...</td>\n",
       "      <td>0</td>\n",
       "      <td>0</td>\n",
       "      <td>0</td>\n",
       "      <td>0</td>\n",
       "      <td>0</td>\n",
       "      <td>0</td>\n",
       "    </tr>\n",
       "    <tr>\n",
       "      <th>4</th>\n",
       "      <td>0001d958c54c6e35</td>\n",
       "      <td>You, sir, are my hero. Any chance you remember...</td>\n",
       "      <td>0</td>\n",
       "      <td>0</td>\n",
       "      <td>0</td>\n",
       "      <td>0</td>\n",
       "      <td>0</td>\n",
       "      <td>0</td>\n",
       "    </tr>\n",
       "    <tr>\n",
       "      <th>...</th>\n",
       "      <td>...</td>\n",
       "      <td>...</td>\n",
       "      <td>...</td>\n",
       "      <td>...</td>\n",
       "      <td>...</td>\n",
       "      <td>...</td>\n",
       "      <td>...</td>\n",
       "      <td>...</td>\n",
       "    </tr>\n",
       "    <tr>\n",
       "      <th>159566</th>\n",
       "      <td>ffe987279560d7ff</td>\n",
       "      <td>\":::::And for the second time of asking, when ...</td>\n",
       "      <td>0</td>\n",
       "      <td>0</td>\n",
       "      <td>0</td>\n",
       "      <td>0</td>\n",
       "      <td>0</td>\n",
       "      <td>0</td>\n",
       "    </tr>\n",
       "    <tr>\n",
       "      <th>159567</th>\n",
       "      <td>ffea4adeee384e90</td>\n",
       "      <td>You should be ashamed of yourself \\n\\nThat is ...</td>\n",
       "      <td>0</td>\n",
       "      <td>0</td>\n",
       "      <td>0</td>\n",
       "      <td>0</td>\n",
       "      <td>0</td>\n",
       "      <td>0</td>\n",
       "    </tr>\n",
       "    <tr>\n",
       "      <th>159568</th>\n",
       "      <td>ffee36eab5c267c9</td>\n",
       "      <td>Spitzer \\n\\nUmm, theres no actual article for ...</td>\n",
       "      <td>0</td>\n",
       "      <td>0</td>\n",
       "      <td>0</td>\n",
       "      <td>0</td>\n",
       "      <td>0</td>\n",
       "      <td>0</td>\n",
       "    </tr>\n",
       "    <tr>\n",
       "      <th>159569</th>\n",
       "      <td>fff125370e4aaaf3</td>\n",
       "      <td>And it looks like it was actually you who put ...</td>\n",
       "      <td>0</td>\n",
       "      <td>0</td>\n",
       "      <td>0</td>\n",
       "      <td>0</td>\n",
       "      <td>0</td>\n",
       "      <td>0</td>\n",
       "    </tr>\n",
       "    <tr>\n",
       "      <th>159570</th>\n",
       "      <td>fff46fc426af1f9a</td>\n",
       "      <td>\"\\nAnd ... I really don't think you understand...</td>\n",
       "      <td>0</td>\n",
       "      <td>0</td>\n",
       "      <td>0</td>\n",
       "      <td>0</td>\n",
       "      <td>0</td>\n",
       "      <td>0</td>\n",
       "    </tr>\n",
       "  </tbody>\n",
       "</table>\n",
       "<p>159571 rows × 8 columns</p>\n",
       "</div>"
      ],
      "text/plain": [
       "                      id                                       comment_text  \\\n",
       "0       0000997932d777bf  Explanation\\nWhy the edits made under my usern...   \n",
       "1       000103f0d9cfb60f  D'aww! He matches this background colour I'm s...   \n",
       "2       000113f07ec002fd  Hey man, I'm really not trying to edit war. It...   \n",
       "3       0001b41b1c6bb37e  \"\\nMore\\nI can't make any real suggestions on ...   \n",
       "4       0001d958c54c6e35  You, sir, are my hero. Any chance you remember...   \n",
       "...                  ...                                                ...   \n",
       "159566  ffe987279560d7ff  \":::::And for the second time of asking, when ...   \n",
       "159567  ffea4adeee384e90  You should be ashamed of yourself \\n\\nThat is ...   \n",
       "159568  ffee36eab5c267c9  Spitzer \\n\\nUmm, theres no actual article for ...   \n",
       "159569  fff125370e4aaaf3  And it looks like it was actually you who put ...   \n",
       "159570  fff46fc426af1f9a  \"\\nAnd ... I really don't think you understand...   \n",
       "\n",
       "        toxic  severe_toxic  obscene  threat  insult  identity_hate  \n",
       "0           0             0        0       0       0              0  \n",
       "1           0             0        0       0       0              0  \n",
       "2           0             0        0       0       0              0  \n",
       "3           0             0        0       0       0              0  \n",
       "4           0             0        0       0       0              0  \n",
       "...       ...           ...      ...     ...     ...            ...  \n",
       "159566      0             0        0       0       0              0  \n",
       "159567      0             0        0       0       0              0  \n",
       "159568      0             0        0       0       0              0  \n",
       "159569      0             0        0       0       0              0  \n",
       "159570      0             0        0       0       0              0  \n",
       "\n",
       "[159571 rows x 8 columns]"
      ]
     },
     "execution_count": 4,
     "metadata": {},
     "output_type": "execute_result"
    }
   ],
   "source": [
    "df = pd.read_csv('csv/train_toxic.csv')\n",
    "df"
   ]
  },
  {
   "cell_type": "code",
   "execution_count": 5,
   "id": "d14fedf1",
   "metadata": {},
   "outputs": [
    {
     "data": {
      "text/html": [
       "<div>\n",
       "<style scoped>\n",
       "    .dataframe tbody tr th:only-of-type {\n",
       "        vertical-align: middle;\n",
       "    }\n",
       "\n",
       "    .dataframe tbody tr th {\n",
       "        vertical-align: top;\n",
       "    }\n",
       "\n",
       "    .dataframe thead th {\n",
       "        text-align: right;\n",
       "    }\n",
       "</style>\n",
       "<table border=\"1\" class=\"dataframe\">\n",
       "  <thead>\n",
       "    <tr style=\"text-align: right;\">\n",
       "      <th></th>\n",
       "      <th>id</th>\n",
       "      <th>comment_text</th>\n",
       "      <th>toxic</th>\n",
       "      <th>severe_toxic</th>\n",
       "      <th>obscene</th>\n",
       "      <th>threat</th>\n",
       "      <th>insult</th>\n",
       "      <th>identity_hate</th>\n",
       "    </tr>\n",
       "  </thead>\n",
       "  <tbody>\n",
       "    <tr>\n",
       "      <th>6</th>\n",
       "      <td>0002bcb3da6cb337</td>\n",
       "      <td>COCKSUCKER BEFORE YOU PISS AROUND ON MY WORK</td>\n",
       "      <td>1</td>\n",
       "      <td>1</td>\n",
       "      <td>1</td>\n",
       "      <td>0</td>\n",
       "      <td>1</td>\n",
       "      <td>0</td>\n",
       "    </tr>\n",
       "    <tr>\n",
       "      <th>12</th>\n",
       "      <td>0005c987bdfc9d4b</td>\n",
       "      <td>Hey... what is it..\\n@ | talk .\\nWhat is it......</td>\n",
       "      <td>1</td>\n",
       "      <td>0</td>\n",
       "      <td>0</td>\n",
       "      <td>0</td>\n",
       "      <td>0</td>\n",
       "      <td>0</td>\n",
       "    </tr>\n",
       "    <tr>\n",
       "      <th>16</th>\n",
       "      <td>0007e25b2121310b</td>\n",
       "      <td>Bye! \\n\\nDon't look, come or think of comming ...</td>\n",
       "      <td>1</td>\n",
       "      <td>0</td>\n",
       "      <td>0</td>\n",
       "      <td>0</td>\n",
       "      <td>0</td>\n",
       "      <td>0</td>\n",
       "    </tr>\n",
       "    <tr>\n",
       "      <th>42</th>\n",
       "      <td>001810bf8c45bf5f</td>\n",
       "      <td>You are gay or antisemmitian? \\n\\nArchangel WH...</td>\n",
       "      <td>1</td>\n",
       "      <td>0</td>\n",
       "      <td>1</td>\n",
       "      <td>0</td>\n",
       "      <td>1</td>\n",
       "      <td>1</td>\n",
       "    </tr>\n",
       "    <tr>\n",
       "      <th>43</th>\n",
       "      <td>00190820581d90ce</td>\n",
       "      <td>FUCK YOUR FILTHY MOTHER IN THE ASS, DRY!</td>\n",
       "      <td>1</td>\n",
       "      <td>0</td>\n",
       "      <td>1</td>\n",
       "      <td>0</td>\n",
       "      <td>1</td>\n",
       "      <td>0</td>\n",
       "    </tr>\n",
       "    <tr>\n",
       "      <th>...</th>\n",
       "      <td>...</td>\n",
       "      <td>...</td>\n",
       "      <td>...</td>\n",
       "      <td>...</td>\n",
       "      <td>...</td>\n",
       "      <td>...</td>\n",
       "      <td>...</td>\n",
       "      <td>...</td>\n",
       "    </tr>\n",
       "    <tr>\n",
       "      <th>159494</th>\n",
       "      <td>fef4cf7ba0012866</td>\n",
       "      <td>\"\\n\\n our previous conversation \\n\\nyou fuckin...</td>\n",
       "      <td>1</td>\n",
       "      <td>0</td>\n",
       "      <td>1</td>\n",
       "      <td>0</td>\n",
       "      <td>1</td>\n",
       "      <td>1</td>\n",
       "    </tr>\n",
       "    <tr>\n",
       "      <th>159514</th>\n",
       "      <td>ff39a2895fc3b40e</td>\n",
       "      <td>YOU ARE A MISCHIEVIOUS PUBIC HAIR</td>\n",
       "      <td>1</td>\n",
       "      <td>0</td>\n",
       "      <td>0</td>\n",
       "      <td>0</td>\n",
       "      <td>1</td>\n",
       "      <td>0</td>\n",
       "    </tr>\n",
       "    <tr>\n",
       "      <th>159541</th>\n",
       "      <td>ffa33d3122b599d6</td>\n",
       "      <td>Your absurd edits \\n\\nYour absurd edits on gre...</td>\n",
       "      <td>1</td>\n",
       "      <td>0</td>\n",
       "      <td>1</td>\n",
       "      <td>0</td>\n",
       "      <td>1</td>\n",
       "      <td>0</td>\n",
       "    </tr>\n",
       "    <tr>\n",
       "      <th>159546</th>\n",
       "      <td>ffb47123b2d82762</td>\n",
       "      <td>\"\\n\\nHey listen don't you ever!!!! Delete my e...</td>\n",
       "      <td>1</td>\n",
       "      <td>0</td>\n",
       "      <td>0</td>\n",
       "      <td>0</td>\n",
       "      <td>1</td>\n",
       "      <td>0</td>\n",
       "    </tr>\n",
       "    <tr>\n",
       "      <th>159554</th>\n",
       "      <td>ffbdbb0483ed0841</td>\n",
       "      <td>and i'm going to keep posting the stuff u dele...</td>\n",
       "      <td>1</td>\n",
       "      <td>0</td>\n",
       "      <td>1</td>\n",
       "      <td>0</td>\n",
       "      <td>1</td>\n",
       "      <td>0</td>\n",
       "    </tr>\n",
       "  </tbody>\n",
       "</table>\n",
       "<p>16225 rows × 8 columns</p>\n",
       "</div>"
      ],
      "text/plain": [
       "                      id                                       comment_text  \\\n",
       "6       0002bcb3da6cb337       COCKSUCKER BEFORE YOU PISS AROUND ON MY WORK   \n",
       "12      0005c987bdfc9d4b  Hey... what is it..\\n@ | talk .\\nWhat is it......   \n",
       "16      0007e25b2121310b  Bye! \\n\\nDon't look, come or think of comming ...   \n",
       "42      001810bf8c45bf5f  You are gay or antisemmitian? \\n\\nArchangel WH...   \n",
       "43      00190820581d90ce           FUCK YOUR FILTHY MOTHER IN THE ASS, DRY!   \n",
       "...                  ...                                                ...   \n",
       "159494  fef4cf7ba0012866  \"\\n\\n our previous conversation \\n\\nyou fuckin...   \n",
       "159514  ff39a2895fc3b40e                  YOU ARE A MISCHIEVIOUS PUBIC HAIR   \n",
       "159541  ffa33d3122b599d6  Your absurd edits \\n\\nYour absurd edits on gre...   \n",
       "159546  ffb47123b2d82762  \"\\n\\nHey listen don't you ever!!!! Delete my e...   \n",
       "159554  ffbdbb0483ed0841  and i'm going to keep posting the stuff u dele...   \n",
       "\n",
       "        toxic  severe_toxic  obscene  threat  insult  identity_hate  \n",
       "6           1             1        1       0       1              0  \n",
       "12          1             0        0       0       0              0  \n",
       "16          1             0        0       0       0              0  \n",
       "42          1             0        1       0       1              1  \n",
       "43          1             0        1       0       1              0  \n",
       "...       ...           ...      ...     ...     ...            ...  \n",
       "159494      1             0        1       0       1              1  \n",
       "159514      1             0        0       0       1              0  \n",
       "159541      1             0        1       0       1              0  \n",
       "159546      1             0        0       0       1              0  \n",
       "159554      1             0        1       0       1              0  \n",
       "\n",
       "[16225 rows x 8 columns]"
      ]
     },
     "execution_count": 5,
     "metadata": {},
     "output_type": "execute_result"
    }
   ],
   "source": [
    "df.loc[(df['toxic'] == 1) | (df['severe_toxic'] == 1) | (df['obscene'] == 1)\n",
    "       | (df['threat'] == 1) | (df['insult'] == 1) | (df['identity_hate'] == 1)]"
   ]
  },
  {
   "cell_type": "markdown",
   "id": "052398df",
   "metadata": {},
   "source": [
    "About 10% of target data. Disbalanced classes."
   ]
  },
  {
   "cell_type": "code",
   "execution_count": 6,
   "id": "39ef1b52",
   "metadata": {},
   "outputs": [
    {
     "data": {
      "text/html": [
       "<div>\n",
       "<style scoped>\n",
       "    .dataframe tbody tr th:only-of-type {\n",
       "        vertical-align: middle;\n",
       "    }\n",
       "\n",
       "    .dataframe tbody tr th {\n",
       "        vertical-align: top;\n",
       "    }\n",
       "\n",
       "    .dataframe thead th {\n",
       "        text-align: right;\n",
       "    }\n",
       "</style>\n",
       "<table border=\"1\" class=\"dataframe\">\n",
       "  <thead>\n",
       "    <tr style=\"text-align: right;\">\n",
       "      <th></th>\n",
       "      <th>toxic</th>\n",
       "      <th>severe_toxic</th>\n",
       "      <th>obscene</th>\n",
       "      <th>threat</th>\n",
       "      <th>insult</th>\n",
       "      <th>identity_hate</th>\n",
       "    </tr>\n",
       "  </thead>\n",
       "  <tbody>\n",
       "    <tr>\n",
       "      <th>count</th>\n",
       "      <td>159571.000000</td>\n",
       "      <td>159571.000000</td>\n",
       "      <td>159571.000000</td>\n",
       "      <td>159571.000000</td>\n",
       "      <td>159571.000000</td>\n",
       "      <td>159571.000000</td>\n",
       "    </tr>\n",
       "    <tr>\n",
       "      <th>mean</th>\n",
       "      <td>0.095844</td>\n",
       "      <td>0.009996</td>\n",
       "      <td>0.052948</td>\n",
       "      <td>0.002996</td>\n",
       "      <td>0.049364</td>\n",
       "      <td>0.008805</td>\n",
       "    </tr>\n",
       "    <tr>\n",
       "      <th>std</th>\n",
       "      <td>0.294379</td>\n",
       "      <td>0.099477</td>\n",
       "      <td>0.223931</td>\n",
       "      <td>0.054650</td>\n",
       "      <td>0.216627</td>\n",
       "      <td>0.093420</td>\n",
       "    </tr>\n",
       "    <tr>\n",
       "      <th>min</th>\n",
       "      <td>0.000000</td>\n",
       "      <td>0.000000</td>\n",
       "      <td>0.000000</td>\n",
       "      <td>0.000000</td>\n",
       "      <td>0.000000</td>\n",
       "      <td>0.000000</td>\n",
       "    </tr>\n",
       "    <tr>\n",
       "      <th>25%</th>\n",
       "      <td>0.000000</td>\n",
       "      <td>0.000000</td>\n",
       "      <td>0.000000</td>\n",
       "      <td>0.000000</td>\n",
       "      <td>0.000000</td>\n",
       "      <td>0.000000</td>\n",
       "    </tr>\n",
       "    <tr>\n",
       "      <th>50%</th>\n",
       "      <td>0.000000</td>\n",
       "      <td>0.000000</td>\n",
       "      <td>0.000000</td>\n",
       "      <td>0.000000</td>\n",
       "      <td>0.000000</td>\n",
       "      <td>0.000000</td>\n",
       "    </tr>\n",
       "    <tr>\n",
       "      <th>75%</th>\n",
       "      <td>0.000000</td>\n",
       "      <td>0.000000</td>\n",
       "      <td>0.000000</td>\n",
       "      <td>0.000000</td>\n",
       "      <td>0.000000</td>\n",
       "      <td>0.000000</td>\n",
       "    </tr>\n",
       "    <tr>\n",
       "      <th>max</th>\n",
       "      <td>1.000000</td>\n",
       "      <td>1.000000</td>\n",
       "      <td>1.000000</td>\n",
       "      <td>1.000000</td>\n",
       "      <td>1.000000</td>\n",
       "      <td>1.000000</td>\n",
       "    </tr>\n",
       "  </tbody>\n",
       "</table>\n",
       "</div>"
      ],
      "text/plain": [
       "               toxic   severe_toxic        obscene         threat  \\\n",
       "count  159571.000000  159571.000000  159571.000000  159571.000000   \n",
       "mean        0.095844       0.009996       0.052948       0.002996   \n",
       "std         0.294379       0.099477       0.223931       0.054650   \n",
       "min         0.000000       0.000000       0.000000       0.000000   \n",
       "25%         0.000000       0.000000       0.000000       0.000000   \n",
       "50%         0.000000       0.000000       0.000000       0.000000   \n",
       "75%         0.000000       0.000000       0.000000       0.000000   \n",
       "max         1.000000       1.000000       1.000000       1.000000   \n",
       "\n",
       "              insult  identity_hate  \n",
       "count  159571.000000  159571.000000  \n",
       "mean        0.049364       0.008805  \n",
       "std         0.216627       0.093420  \n",
       "min         0.000000       0.000000  \n",
       "25%         0.000000       0.000000  \n",
       "50%         0.000000       0.000000  \n",
       "75%         0.000000       0.000000  \n",
       "max         1.000000       1.000000  "
      ]
     },
     "execution_count": 6,
     "metadata": {},
     "output_type": "execute_result"
    }
   ],
   "source": [
    "df.describe()"
   ]
  },
  {
   "cell_type": "code",
   "execution_count": 7,
   "id": "558bff1e",
   "metadata": {},
   "outputs": [
    {
     "name": "stdout",
     "output_type": "stream",
     "text": [
      "<class 'pandas.core.frame.DataFrame'>\n",
      "RangeIndex: 159571 entries, 0 to 159570\n",
      "Data columns (total 8 columns):\n",
      " #   Column         Non-Null Count   Dtype \n",
      "---  ------         --------------   ----- \n",
      " 0   id             159571 non-null  object\n",
      " 1   comment_text   159571 non-null  object\n",
      " 2   toxic          159571 non-null  int64 \n",
      " 3   severe_toxic   159571 non-null  int64 \n",
      " 4   obscene        159571 non-null  int64 \n",
      " 5   threat         159571 non-null  int64 \n",
      " 6   insult         159571 non-null  int64 \n",
      " 7   identity_hate  159571 non-null  int64 \n",
      "dtypes: int64(6), object(2)\n",
      "memory usage: 9.7+ MB\n"
     ]
    }
   ],
   "source": [
    "df.info()"
   ]
  },
  {
   "cell_type": "markdown",
   "id": "77535b71",
   "metadata": {},
   "source": [
    "### 2. Split train data"
   ]
  },
  {
   "cell_type": "code",
   "execution_count": 8,
   "id": "3f721675",
   "metadata": {},
   "outputs": [
    {
     "data": {
      "text/plain": [
       "array(['toxic', 'severe_toxic', 'obscene', 'threat', 'insult',\n",
       "       'identity_hate'], dtype=object)"
      ]
     },
     "execution_count": 8,
     "metadata": {},
     "output_type": "execute_result"
    }
   ],
   "source": [
    "target = df.columns[2:].values\n",
    "target"
   ]
  },
  {
   "cell_type": "code",
   "execution_count": 9,
   "id": "7ed4dbf6",
   "metadata": {},
   "outputs": [],
   "source": [
    "X_train, X_test, y_train, y_test = train_test_split(df[['comment_text']], df[target], random_state=42)"
   ]
  },
  {
   "cell_type": "code",
   "execution_count": 10,
   "id": "7028b9c9",
   "metadata": {},
   "outputs": [
    {
     "data": {
      "text/html": [
       "<div>\n",
       "<style scoped>\n",
       "    .dataframe tbody tr th:only-of-type {\n",
       "        vertical-align: middle;\n",
       "    }\n",
       "\n",
       "    .dataframe tbody tr th {\n",
       "        vertical-align: top;\n",
       "    }\n",
       "\n",
       "    .dataframe thead th {\n",
       "        text-align: right;\n",
       "    }\n",
       "</style>\n",
       "<table border=\"1\" class=\"dataframe\">\n",
       "  <thead>\n",
       "    <tr style=\"text-align: right;\">\n",
       "      <th></th>\n",
       "      <th>comment_text</th>\n",
       "    </tr>\n",
       "  </thead>\n",
       "  <tbody>\n",
       "    <tr>\n",
       "      <th>75144</th>\n",
       "      <td>,  I have added the newline sign back in, you ...</td>\n",
       "    </tr>\n",
       "    <tr>\n",
       "      <th>154769</th>\n",
       "      <td>Don't worry, I think I fixed it. But still loo...</td>\n",
       "    </tr>\n",
       "    <tr>\n",
       "      <th>48346</th>\n",
       "      <td>\"\\nWell it seems to me that you have a problem...</td>\n",
       "    </tr>\n",
       "  </tbody>\n",
       "</table>\n",
       "</div>"
      ],
      "text/plain": [
       "                                             comment_text\n",
       "75144   ,  I have added the newline sign back in, you ...\n",
       "154769  Don't worry, I think I fixed it. But still loo...\n",
       "48346   \"\\nWell it seems to me that you have a problem..."
      ]
     },
     "execution_count": 10,
     "metadata": {},
     "output_type": "execute_result"
    }
   ],
   "source": [
    "X_train.head(3)"
   ]
  },
  {
   "cell_type": "code",
   "execution_count": 11,
   "id": "ab73cefb",
   "metadata": {
    "scrolled": false
   },
   "outputs": [
    {
     "data": {
      "text/html": [
       "<div>\n",
       "<style scoped>\n",
       "    .dataframe tbody tr th:only-of-type {\n",
       "        vertical-align: middle;\n",
       "    }\n",
       "\n",
       "    .dataframe tbody tr th {\n",
       "        vertical-align: top;\n",
       "    }\n",
       "\n",
       "    .dataframe thead th {\n",
       "        text-align: right;\n",
       "    }\n",
       "</style>\n",
       "<table border=\"1\" class=\"dataframe\">\n",
       "  <thead>\n",
       "    <tr style=\"text-align: right;\">\n",
       "      <th></th>\n",
       "      <th>toxic</th>\n",
       "      <th>severe_toxic</th>\n",
       "      <th>obscene</th>\n",
       "      <th>threat</th>\n",
       "      <th>insult</th>\n",
       "      <th>identity_hate</th>\n",
       "    </tr>\n",
       "  </thead>\n",
       "  <tbody>\n",
       "    <tr>\n",
       "      <th>75144</th>\n",
       "      <td>0</td>\n",
       "      <td>0</td>\n",
       "      <td>0</td>\n",
       "      <td>0</td>\n",
       "      <td>0</td>\n",
       "      <td>0</td>\n",
       "    </tr>\n",
       "    <tr>\n",
       "      <th>154769</th>\n",
       "      <td>0</td>\n",
       "      <td>0</td>\n",
       "      <td>0</td>\n",
       "      <td>0</td>\n",
       "      <td>0</td>\n",
       "      <td>0</td>\n",
       "    </tr>\n",
       "    <tr>\n",
       "      <th>48346</th>\n",
       "      <td>0</td>\n",
       "      <td>0</td>\n",
       "      <td>0</td>\n",
       "      <td>0</td>\n",
       "      <td>0</td>\n",
       "      <td>0</td>\n",
       "    </tr>\n",
       "  </tbody>\n",
       "</table>\n",
       "</div>"
      ],
      "text/plain": [
       "        toxic  severe_toxic  obscene  threat  insult  identity_hate\n",
       "75144       0             0        0       0       0              0\n",
       "154769      0             0        0       0       0              0\n",
       "48346       0             0        0       0       0              0"
      ]
     },
     "execution_count": 11,
     "metadata": {},
     "output_type": "execute_result"
    }
   ],
   "source": [
    "y_train.head(3)"
   ]
  },
  {
   "cell_type": "code",
   "execution_count": 12,
   "id": "cfa44b43",
   "metadata": {},
   "outputs": [
    {
     "name": "stdout",
     "output_type": "stream",
     "text": [
      "Percent of toxics:  9.59 %\n",
      "Percent of severe_toxics:  0.99 %\n",
      "Percent of obscenes:  5.27 %\n",
      "Percent of threats:  0.31 %\n",
      "Percent of insults:  4.9 %\n",
      "Percent of identity_hates:  0.88 %\n"
     ]
    }
   ],
   "source": [
    "for i in y_train.columns :\n",
    "    print(\"Percent of {0}s: \".format(i), round(100*y_train[i].mean(), 2), \"%\")"
   ]
  },
  {
   "cell_type": "code",
   "execution_count": 13,
   "id": "e40b1a5f",
   "metadata": {},
   "outputs": [
    {
     "name": "stdout",
     "output_type": "stream",
     "text": [
      "Percent of toxics:  9.56 %\n",
      "Percent of severe_toxics:  1.02 %\n",
      "Percent of obscenes:  5.37 %\n",
      "Percent of threats:  0.26 %\n",
      "Percent of insults:  5.04 %\n",
      "Percent of identity_hates:  0.89 %\n"
     ]
    }
   ],
   "source": [
    "for i in y_test.columns :\n",
    "    print(\"Percent of {0}s: \".format(i), round(100*y_test[i].mean(), 2), \"%\")"
   ]
  },
  {
   "cell_type": "markdown",
   "id": "f51999b8",
   "metadata": {},
   "source": [
    "Let's make graphic for train data:"
   ]
  },
  {
   "cell_type": "code",
   "execution_count": 14,
   "id": "66d50c0e",
   "metadata": {},
   "outputs": [
    {
     "data": {
      "text/plain": [
       "<BarContainer object of 6 artists>"
      ]
     },
     "execution_count": 14,
     "metadata": {},
     "output_type": "execute_result"
    },
    {
     "data": {
      "text/plain": [
       "<Figure size 864x864 with 0 Axes>"
      ]
     },
     "metadata": {},
     "output_type": "display_data"
    },
    {
     "data": {
      "image/png": "[encoded data removed]",
      "text/plain": [
       "<Figure size 432x288 with 1 Axes>"
      ]
     },
     "metadata": {
      "needs_background": "light"
     },
     "output_type": "display_data"
    }
   ],
   "source": [
    "color = ['red','blue','green','yellow','black','orange']\n",
    "plt.figure(figsize=(12, 12))\n",
    "fig, ax = plt.subplots()\n",
    "ax.bar(y_train.columns, y_train.sum(), color = color)"
   ]
  },
  {
   "cell_type": "code",
   "execution_count": 15,
   "id": "e2bab259",
   "metadata": {},
   "outputs": [
    {
     "data": {
      "text/plain": [
       "<BarContainer object of 6 artists>"
      ]
     },
     "execution_count": 15,
     "metadata": {},
     "output_type": "execute_result"
    },
    {
     "data": {
      "text/plain": [
       "<Figure size 864x864 with 0 Axes>"
      ]
     },
     "metadata": {},
     "output_type": "display_data"
    },
    {
     "data": {
      "image/png": "[encoded data removed]",
      "text/plain": [
       "<Figure size 432x288 with 1 Axes>"
      ]
     },
     "metadata": {
      "needs_background": "light"
     },
     "output_type": "display_data"
    }
   ],
   "source": [
    "color = ['red','blue','green','yellow','black','orange']\n",
    "plt.figure(figsize=(12, 12))\n",
    "fig, ax = plt.subplots()\n",
    "ax.bar(y_test.columns, y_test.sum(), color = color)"
   ]
  },
  {
   "cell_type": "markdown",
   "id": "82e68150",
   "metadata": {},
   "source": [
    "We have got good shaffle train and test split. Let's save data:"
   ]
  },
  {
   "cell_type": "markdown",
   "id": "af1116ab",
   "metadata": {},
   "source": [
    "### 3. Save train and test data"
   ]
  },
  {
   "cell_type": "code",
   "execution_count": 16,
   "id": "59efe375",
   "metadata": {},
   "outputs": [],
   "source": [
    "# save train\n",
    "X_train.to_csv('csv/X_train.csv', index=None)\n",
    "y_train.to_csv('csv/y_train.csv', index=None)\n",
    "\n",
    "# save test\n",
    "X_test.to_csv('csv/X_test.csv', index=None)\n",
    "y_test.to_csv('csv/y_test.csv', index=None)"
   ]
  },
  {
   "cell_type": "markdown",
   "id": "54a30f2f",
   "metadata": {},
   "source": [
    "### 4. Prepare feature transforms"
   ]
  },
  {
   "cell_type": "code",
   "execution_count": 17,
   "id": "4c960f2b",
   "metadata": {},
   "outputs": [],
   "source": [
    "# select column\n",
    "class ColumnSelector(BaseEstimator, TransformerMixin):\n",
    "    \"\"\"\n",
    "    Transformer to select a single column from the data frame to perform additional transformations on\n",
    "    \"\"\"\n",
    "    def __init__(self, key):\n",
    "        self.key = key\n",
    "\n",
    "    def fit(self, X, y=None):\n",
    "        return self\n",
    "\n",
    "    def transform(self, X):\n",
    "        return X[self.key]\n",
    "    \n",
    "\n",
    "# clean text with regular expressions\n",
    "class TextCleaner(BaseEstimator, TransformerMixin):\n",
    "    def __init__(self, key):\n",
    "        self.key = key\n",
    "        self.pattern = [\"i'm\", \"\\r\", \"he's\", \"she's\", \"it's\", \"that's\", \"what's\", \"where's\", \"how's\",\\\n",
    "                        \"\\'ll\", \"\\'ve\", \"\\'re\", \"\\'d\", \"won't\", \"won't\", \"n't\", \"n'\", \"'bout\",\\\n",
    "                        \"'til\", \"[-()#\\\"\\/\\\\\\[\\]@;:<>{}`+=~|.!?,]\", \"(\\\\W)\", \"\\S*\\d\\S*\\s*\"]\n",
    "        self.replace = [\"i am\", \" \", \"he is\", \"she is\", \"it is\", \"that is\", \"what is\", \"where is\", \"how is\",\\\n",
    "                        \" will\", \" have\", \" are\", \" would\", \"will not\", \"cannot\", \"not\", \"ng\", \"about\",\\\n",
    "                        \"until\", \" \", \" \", \"\"]\n",
    "\n",
    "    def fit(self, X, y=None):\n",
    "        return self\n",
    "    \n",
    "    def transform(self, X):  \n",
    "        X = X.fillna('')\n",
    "        X = X.str.lower()\n",
    "        # loop all regex\n",
    "        for pat, repl in zip(self.pattern, self.replace):\n",
    "            X = X.str.replace(pat, repl)\n",
    "        X = X.str.translate(str.maketrans('', '', string.punctuation))\n",
    "        return X"
   ]
  },
  {
   "cell_type": "markdown",
   "id": "f2fddfdb",
   "metadata": {},
   "source": [
    "Let's check the clean function:"
   ]
  },
  {
   "cell_type": "markdown",
   "id": "71dbc348",
   "metadata": {},
   "source": [
    "### 5. Build pipeline"
   ]
  },
  {
   "cell_type": "code",
   "execution_count": 18,
   "id": "36bdff40",
   "metadata": {},
   "outputs": [],
   "source": [
    "toxic = Pipeline([\n",
    "    ('selector', ColumnSelector('comment_text')),\n",
    "    ('cleaner', TextCleaner('comment_text'))\n",
    "])"
   ]
  },
  {
   "cell_type": "code",
   "execution_count": 19,
   "id": "f9fee9e4",
   "metadata": {
    "scrolled": true
   },
   "outputs": [
    {
     "data": {
      "text/plain": [
       "Pipeline(steps=[('selector', ColumnSelector(key='comment_text')),\n",
       "                ('cleaner', TextCleaner(key='comment_text'))])"
      ]
     },
     "execution_count": 19,
     "metadata": {},
     "output_type": "execute_result"
    }
   ],
   "source": [
    "toxic.fit(X_train)"
   ]
  },
  {
   "cell_type": "code",
   "execution_count": 20,
   "id": "3077d966",
   "metadata": {},
   "outputs": [
    {
     "name": "stdout",
     "output_type": "stream",
     "text": [
      "CPU times: user 4.36 s, sys: 144 ms, total: 4.5 s\n",
      "Wall time: 4.56 s\n"
     ]
    },
    {
     "data": {
      "text/plain": [
       "119105    geez  are you forgetful   we have already disc...\n",
       "131631    carioca rfa   thanks for your support on my re...\n",
       "125326        birthday   no worries  it is what i do   e...\n",
       "111256    pseudoscience category    i am assuming that t...\n",
       "83590      and if such phrase exists  it would be provid...\n",
       "                                ...                        \n",
       "11066     citation listed is a valid source   deal with ...\n",
       "141125                 fuck you               and your foot\n",
       "158236    a photo of a magazine cover in a wikipedia art...\n",
       "105667        danon says bluntly that he wants to take t...\n",
       "155646        tell that to john carter and his amazing f...\n",
       "Name: comment_text, Length: 39893, dtype: object"
      ]
     },
     "execution_count": 20,
     "metadata": {},
     "output_type": "execute_result"
    }
   ],
   "source": [
    "%%time\n",
    "toxic.transform(X_test)"
   ]
  },
  {
   "cell_type": "markdown",
   "id": "b8a5d5ac",
   "metadata": {},
   "source": [
    "Good. Let's make final pipeline and choose the model:"
   ]
  },
  {
   "cell_type": "markdown",
   "id": "39895d86",
   "metadata": {},
   "source": [
    "### 6. Choose and save model"
   ]
  },
  {
   "cell_type": "code",
   "execution_count": 21,
   "id": "297a0052",
   "metadata": {},
   "outputs": [],
   "source": [
    "def evaluate_model(y_true, y_preds):\n",
    "    # Precision Recall F-Score\n",
    "    metrics_list = []\n",
    "    ix_thresholds = []\n",
    "    for i in range(y_true.shape[1]):\n",
    "        precision, recall, thresholds = precision_recall_curve(y_true.iloc[:, i], y_preds[:, i])\n",
    "        fscore = (2 * precision * recall) / (precision + recall)\n",
    "        ix = np.argmax(fscore)\n",
    "        metrics_list.append([thresholds, fscore, precision, recall])\n",
    "        ix_thresholds.append(ix)\n",
    "        print(f'Best Threshold for {y_test.columns[i]} = {thresholds[ix]}, \\\n",
    "        F-Score = {fscore[ix]:.3f}, Precision = {precision[ix]:.3f}, Recall = {recall[ix]:.3f}')\n",
    "    \n",
    "    # Mean F-Score\n",
    "    fmean = []\n",
    "    for i, m in zip(ix_thresholds, metrics_list):\n",
    "        fmean.append(m[2][i])\n",
    "    fscore_mean = np.mean(fmean)\n",
    "    print(f'Mean F-Score = {fscore_mean}')\n",
    "    \n",
    "    # ROC AUC\n",
    "    roc_auc = roc_auc_score(y_true, y_preds)\n",
    "    print(f'ROC AUC = {roc_auc}')\n",
    "    \n",
    "    return fscore_mean, roc_auc"
   ]
  },
  {
   "cell_type": "markdown",
   "id": "87bf5069",
   "metadata": {},
   "source": [
    "##### Logistic Regression:"
   ]
  },
  {
   "cell_type": "markdown",
   "id": "f74cea0d",
   "metadata": {},
   "source": [
    "Reupdate data:"
   ]
  },
  {
   "cell_type": "code",
   "execution_count": 22,
   "id": "11737074",
   "metadata": {},
   "outputs": [],
   "source": [
    "X_train, X_test, y_train, y_test = train_test_split(df[['comment_text']], df[target], random_state=42)"
   ]
  },
  {
   "cell_type": "code",
   "execution_count": 23,
   "id": "0129f85a",
   "metadata": {},
   "outputs": [],
   "source": [
    "pipeline = Pipeline([\n",
    "    ('selector', ColumnSelector('comment_text')),\n",
    "    ('cleaner', TextCleaner('comment_text')),\n",
    "    ('tfidf', TfidfVectorizer(stop_words='english', strip_accents='unicode', ngram_range=(1,2),\\\n",
    "                             token_pattern=r'\\w{1,}', sublinear_tf=True, max_features=100000)),\n",
    "    ('classifier', OneVsRestClassifier(LogisticRegression(C = 10,\\\n",
    "                    penalty='l2', solver = 'liblinear', max_iter=1000, random_state=42)))\n",
    "])"
   ]
  },
  {
   "cell_type": "code",
   "execution_count": 24,
   "id": "5c648287",
   "metadata": {
    "scrolled": true
   },
   "outputs": [
    {
     "name": "stdout",
     "output_type": "stream",
     "text": [
      "CPU times: user 1min 4s, sys: 1.07 s, total: 1min 5s\n",
      "Wall time: 41.1 s\n"
     ]
    },
    {
     "data": {
      "text/plain": [
       "Pipeline(steps=[('selector', ColumnSelector(key='comment_text')),\n",
       "                ('cleaner', TextCleaner(key='comment_text')),\n",
       "                ('tfidf',\n",
       "                 TfidfVectorizer(max_features=100000, ngram_range=(1, 2),\n",
       "                                 stop_words='english', strip_accents='unicode',\n",
       "                                 sublinear_tf=True, token_pattern='\\\\w{1,}')),\n",
       "                ('classifier',\n",
       "                 OneVsRestClassifier(estimator=LogisticRegression(C=10,\n",
       "                                                                  max_iter=1000,\n",
       "                                                                  random_state=42,\n",
       "                                                                  solver='liblinear')))])"
      ]
     },
     "execution_count": 24,
     "metadata": {},
     "output_type": "execute_result"
    }
   ],
   "source": [
    "%%time\n",
    "pipeline.fit(X_train, y_train)"
   ]
  },
  {
   "cell_type": "markdown",
   "id": "161d9de6",
   "metadata": {},
   "source": [
    "Let's save model:"
   ]
  },
  {
   "cell_type": "code",
   "execution_count": 25,
   "id": "621ddb5a",
   "metadata": {
    "scrolled": true
   },
   "outputs": [
    {
     "name": "stdout",
     "output_type": "stream",
     "text": [
      "CPU times: user 9.65 s, sys: 283 ms, total: 9.93 s\n",
      "Wall time: 9.62 s\n"
     ]
    }
   ],
   "source": [
    "%%time\n",
    "with open('docker/app/models/logreg_pipeline.dill', 'wb') as f:\n",
    "    dill.dump(pipeline, f)"
   ]
  },
  {
   "cell_type": "markdown",
   "id": "7375e047",
   "metadata": {},
   "source": [
    "Reload test data:"
   ]
  },
  {
   "cell_type": "code",
   "execution_count": 26,
   "id": "7673e1d0",
   "metadata": {},
   "outputs": [],
   "source": [
    "X_test = pd.read_csv('csv/X_test.csv')\n",
    "y_test = pd.read_csv('csv/y_test.csv')"
   ]
  },
  {
   "cell_type": "code",
   "execution_count": 27,
   "id": "4f4cb99f",
   "metadata": {
    "scrolled": true
   },
   "outputs": [
    {
     "name": "stdout",
     "output_type": "stream",
     "text": [
      "CPU times: user 7.24 s, sys: 96.5 ms, total: 7.34 s\n",
      "Wall time: 7.44 s\n"
     ]
    },
    {
     "data": {
      "text/plain": [
       "array([0.04400561, 0.00314047, 0.00764626, 0.00052284, 0.016715  ,\n",
       "       0.01668722])"
      ]
     },
     "execution_count": 27,
     "metadata": {},
     "output_type": "execute_result"
    }
   ],
   "source": [
    "%%time\n",
    "preds = pipeline.predict_proba(X_test)\n",
    "preds[0]"
   ]
  },
  {
   "cell_type": "code",
   "execution_count": 28,
   "id": "74f3bf1b",
   "metadata": {},
   "outputs": [
    {
     "name": "stdout",
     "output_type": "stream",
     "text": [
      "Best Threshold for toxic = 0.2748666660793717,         F-Score = 0.780, Precision = 0.792, Recall = 0.768\n",
      "Best Threshold for severe_toxic = 0.11291179179782204,         F-Score = 0.474, Precision = 0.396, Recall = 0.589\n",
      "Best Threshold for obscene = 0.2075214962069407,         F-Score = 0.814, Precision = 0.822, Recall = 0.806\n",
      "Best Threshold for threat = 0.3584122050945679,         F-Score = 0.448, Precision = 0.617, Recall = 0.352\n",
      "Best Threshold for insult = 0.1831494870977185,         F-Score = 0.711, Precision = 0.681, Recall = 0.744\n",
      "Best Threshold for identity_hate = 0.09402841361070136,         F-Score = 0.454, Precision = 0.388, Recall = 0.546\n",
      "Mean F-Score = 0.616041612116084\n",
      "ROC AUC = 0.9766130962767745\n"
     ]
    }
   ],
   "source": [
    "fmean, roc_auc = evaluate_model(y_test, preds)"
   ]
  },
  {
   "cell_type": "code",
   "execution_count": 29,
   "id": "5fd73b1f",
   "metadata": {},
   "outputs": [],
   "source": [
    "# matrics table\n",
    "models_result = pd.DataFrame(columns=['Approach', 'Mean F-Score', 'ROC AUC'])"
   ]
  },
  {
   "cell_type": "code",
   "execution_count": 30,
   "id": "d33d9256",
   "metadata": {},
   "outputs": [
    {
     "data": {
      "text/html": [
       "<div>\n",
       "<style scoped>\n",
       "    .dataframe tbody tr th:only-of-type {\n",
       "        vertical-align: middle;\n",
       "    }\n",
       "\n",
       "    .dataframe tbody tr th {\n",
       "        vertical-align: top;\n",
       "    }\n",
       "\n",
       "    .dataframe thead th {\n",
       "        text-align: right;\n",
       "    }\n",
       "</style>\n",
       "<table border=\"1\" class=\"dataframe\">\n",
       "  <thead>\n",
       "    <tr style=\"text-align: right;\">\n",
       "      <th></th>\n",
       "      <th>Approach</th>\n",
       "      <th>Mean F-Score</th>\n",
       "      <th>ROC AUC</th>\n",
       "    </tr>\n",
       "  </thead>\n",
       "  <tbody>\n",
       "    <tr>\n",
       "      <th>0</th>\n",
       "      <td>LogisticRegression</td>\n",
       "      <td>0.616042</td>\n",
       "      <td>0.976613</td>\n",
       "    </tr>\n",
       "  </tbody>\n",
       "</table>\n",
       "</div>"
      ],
      "text/plain": [
       "             Approach  Mean F-Score   ROC AUC\n",
       "0  LogisticRegression      0.616042  0.976613"
      ]
     },
     "execution_count": 30,
     "metadata": {},
     "output_type": "execute_result"
    }
   ],
   "source": [
    "models_result.loc[0] = ['LogisticRegression', fmean, roc_auc]\n",
    "models_result"
   ]
  },
  {
   "cell_type": "markdown",
   "id": "7ca3a63c",
   "metadata": {},
   "source": [
    "##### XGBoosting:"
   ]
  },
  {
   "cell_type": "markdown",
   "id": "342d54cb",
   "metadata": {},
   "source": [
    "Reupdate data:"
   ]
  },
  {
   "cell_type": "code",
   "execution_count": 31,
   "id": "4ab71c5e",
   "metadata": {},
   "outputs": [],
   "source": [
    "X_train, X_test, y_train, y_test = train_test_split(df[['comment_text']], df[target], random_state=42)"
   ]
  },
  {
   "cell_type": "code",
   "execution_count": 32,
   "id": "2b1838a6",
   "metadata": {},
   "outputs": [],
   "source": [
    "pipeline = Pipeline([\n",
    "    ('selector', ColumnSelector('comment_text')),\n",
    "    ('cleaner', TextCleaner('comment_text')),\n",
    "    ('tfidf', TfidfVectorizer(stop_words='english', strip_accents='unicode', ngram_range=(1,3),\\\n",
    "                             token_pattern=r'\\w{1,}', sublinear_tf=True)),\n",
    "    ('classifier', OneVsRestClassifier(xgb.XGBClassifier(objective='reg:squaredlogerror',\\\n",
    "                                                         use_label_encoder=False, random_state=42)))\n",
    "])"
   ]
  },
  {
   "cell_type": "code",
   "execution_count": 33,
   "id": "a3f1fb3e",
   "metadata": {
    "scrolled": false
   },
   "outputs": [
    {
     "name": "stdout",
     "output_type": "stream",
     "text": [
      "CPU times: user 1h 15min 41s, sys: 22.2 s, total: 1h 16min 3s\n",
      "Wall time: 10min 33s\n"
     ]
    },
    {
     "data": {
      "text/plain": [
       "Pipeline(steps=[('selector', ColumnSelector(key='comment_text')),\n",
       "                ('cleaner', TextCleaner(key='comment_text')),\n",
       "                ('tfidf',\n",
       "                 TfidfVectorizer(ngram_range=(1, 3), stop_words='english',\n",
       "                                 strip_accents='unicode', sublinear_tf=True,\n",
       "                                 token_pattern='\\\\w{1,}')),\n",
       "                ('classifier',\n",
       "                 OneVsRestClassifier(estimator=XGBClassifier(base_score=None,\n",
       "                                                             booster=None,\n",
       "                                                             colsample_bylevel=None,...\n",
       "                                                             max_delta_step=None,\n",
       "                                                             max_depth=None,\n",
       "                                                             min_child_weight=None,\n",
       "                                                             missing=nan,\n",
       "                                                             monotone_constraints=None,\n",
       "                                                             n_estimators=100,\n",
       "                                                             n_jobs=None,\n",
       "                                                             num_parallel_tree=None,\n",
       "                                                             objective='reg:squaredlogerror',\n",
       "                                                             predictor=None,\n",
       "                                                             random_state=42,\n",
       "                                                             reg_alpha=None,\n",
       "                                                             reg_lambda=None,\n",
       "                                                             scale_pos_weight=None,\n",
       "                                                             subsample=None,\n",
       "                                                             tree_method=None,\n",
       "                                                             use_label_encoder=False,\n",
       "                                                             validate_parameters=None,\n",
       "                                                             verbosity=None)))])"
      ]
     },
     "execution_count": 33,
     "metadata": {},
     "output_type": "execute_result"
    }
   ],
   "source": [
    "%%time\n",
    "pipeline.fit(X_train, y_train)"
   ]
  },
  {
   "cell_type": "markdown",
   "id": "bed6c8af",
   "metadata": {},
   "source": [
    "Reload test data:"
   ]
  },
  {
   "cell_type": "code",
   "execution_count": 34,
   "id": "a8bbfca0",
   "metadata": {},
   "outputs": [],
   "source": [
    "X_test = pd.read_csv('csv/X_test.csv')\n",
    "y_test = pd.read_csv('csv/y_test.csv')"
   ]
  },
  {
   "cell_type": "code",
   "execution_count": 35,
   "id": "a4cd98e6",
   "metadata": {},
   "outputs": [
    {
     "name": "stdout",
     "output_type": "stream",
     "text": [
      "CPU times: user 26.5 s, sys: 6.27 s, total: 32.8 s\n",
      "Wall time: 18.3 s\n"
     ]
    },
    {
     "data": {
      "text/plain": [
       "array([6.1595894e-02, 5.4449607e-05, 4.2534070e-03, 3.2858516e-04,\n",
       "       5.5128741e-03, 8.6946628e-04], dtype=float32)"
      ]
     },
     "execution_count": 35,
     "metadata": {},
     "output_type": "execute_result"
    }
   ],
   "source": [
    "%%time\n",
    "preds = pipeline.predict_proba(X_test)\n",
    "preds[0]"
   ]
  },
  {
   "cell_type": "code",
   "execution_count": 36,
   "id": "42ffa66c",
   "metadata": {
    "scrolled": true
   },
   "outputs": [
    {
     "name": "stdout",
     "output_type": "stream",
     "text": [
      "Best Threshold for toxic = 0.31231170892715454,         F-Score = 0.735, Precision = 0.750, Recall = 0.720\n",
      "Best Threshold for severe_toxic = 0.18469859659671783,         F-Score = 0.404, Precision = 0.324, Recall = 0.537\n",
      "Best Threshold for obscene = 0.33159559965133667,         F-Score = 0.805, Precision = 0.804, Recall = 0.807\n",
      "Best Threshold for threat = 0.3161265254020691,         F-Score = 0.390, Precision = 0.400, Recall = 0.381\n",
      "Best Threshold for insult = 0.2822309732437134,         F-Score = 0.686, Precision = 0.638, Recall = 0.742\n",
      "Best Threshold for identity_hate = 0.24755147099494934,         F-Score = 0.456, Precision = 0.438, Recall = 0.476\n",
      "Mean F-Score = 0.5590562533546944\n",
      "ROC AUC = 0.9303678135526031\n"
     ]
    }
   ],
   "source": [
    "fmean, roc_auc = evaluate_model(y_test, preds)"
   ]
  },
  {
   "cell_type": "code",
   "execution_count": 37,
   "id": "f43c1dcd",
   "metadata": {},
   "outputs": [
    {
     "data": {
      "text/html": [
       "<div>\n",
       "<style scoped>\n",
       "    .dataframe tbody tr th:only-of-type {\n",
       "        vertical-align: middle;\n",
       "    }\n",
       "\n",
       "    .dataframe tbody tr th {\n",
       "        vertical-align: top;\n",
       "    }\n",
       "\n",
       "    .dataframe thead th {\n",
       "        text-align: right;\n",
       "    }\n",
       "</style>\n",
       "<table border=\"1\" class=\"dataframe\">\n",
       "  <thead>\n",
       "    <tr style=\"text-align: right;\">\n",
       "      <th></th>\n",
       "      <th>Approach</th>\n",
       "      <th>Mean F-Score</th>\n",
       "      <th>ROC AUC</th>\n",
       "    </tr>\n",
       "  </thead>\n",
       "  <tbody>\n",
       "    <tr>\n",
       "      <th>0</th>\n",
       "      <td>LogisticRegression</td>\n",
       "      <td>0.616042</td>\n",
       "      <td>0.976613</td>\n",
       "    </tr>\n",
       "    <tr>\n",
       "      <th>1</th>\n",
       "      <td>XGBoost</td>\n",
       "      <td>0.559056</td>\n",
       "      <td>0.930368</td>\n",
       "    </tr>\n",
       "  </tbody>\n",
       "</table>\n",
       "</div>"
      ],
      "text/plain": [
       "             Approach  Mean F-Score   ROC AUC\n",
       "0  LogisticRegression      0.616042  0.976613\n",
       "1             XGBoost      0.559056  0.930368"
      ]
     },
     "execution_count": 37,
     "metadata": {},
     "output_type": "execute_result"
    }
   ],
   "source": [
    "models_result.loc[1] = ['XGBoost', fmean, roc_auc]\n",
    "models_result"
   ]
  },
  {
   "cell_type": "markdown",
   "id": "2cf196cb",
   "metadata": {},
   "source": [
    " Best score has got from LogisticRegression. We already have saved pipeline. Let's check it:"
   ]
  },
  {
   "cell_type": "code",
   "execution_count": 38,
   "id": "322e95b7",
   "metadata": {},
   "outputs": [
    {
     "name": "stdout",
     "output_type": "stream",
     "text": [
      "CPU times: user 576 ms, sys: 295 ms, total: 870 ms\n",
      "Wall time: 894 ms\n"
     ]
    }
   ],
   "source": [
    "%%time\n",
    "with open('docker/app/models/logreg_pipeline.dill', 'rb') as f:\n",
    "    pipeline = dill.load(f)"
   ]
  },
  {
   "cell_type": "code",
   "execution_count": 39,
   "id": "9994972c",
   "metadata": {},
   "outputs": [
    {
     "data": {
      "text/plain": [
       "Pipeline(steps=[('selector', ColumnSelector(key='comment_text')),\n",
       "                ('cleaner', TextCleaner(key='comment_text')),\n",
       "                ('tfidf',\n",
       "                 TfidfVectorizer(max_features=100000, ngram_range=(1, 2),\n",
       "                                 stop_words='english', strip_accents='unicode',\n",
       "                                 sublinear_tf=True, token_pattern='\\\\w{1,}')),\n",
       "                ('classifier',\n",
       "                 OneVsRestClassifier(estimator=LogisticRegression(C=10,\n",
       "                                                                  max_iter=1000,\n",
       "                                                                  random_state=42,\n",
       "                                                                  solver='liblinear')))])"
      ]
     },
     "execution_count": 39,
     "metadata": {},
     "output_type": "execute_result"
    }
   ],
   "source": [
    "pipeline"
   ]
  },
  {
   "cell_type": "code",
   "execution_count": null,
   "id": "13a51e64",
   "metadata": {},
   "outputs": [],
   "source": []
  }
 ],
 "metadata": {
  "kernelspec": {
   "display_name": "Python 3 (ipykernel)",
   "language": "python",
   "name": "python3"
  },
  "language_info": {
   "codemirror_mode": {
    "name": "ipython",
    "version": 3
   },
   "file_extension": ".py",
   "mimetype": "text/x-python",
   "name": "python",
   "nbconvert_exporter": "python",
   "pygments_lexer": "ipython3",
   "version": "3.9.7"
  }
 },
 "nbformat": 4,
 "nbformat_minor": 5
}
